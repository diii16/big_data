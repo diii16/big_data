{
  "nbformat": 4,
  "nbformat_minor": 0,
  "metadata": {
    "colab": {
      "name": "Traveling Salesman Project.ipynb",
      "version": "0.3.2",
      "provenance": [],
      "collapsed_sections": [
        "BoCjRvFmqsDZ",
        "HesilNWtLVSL",
        "Zh56XvtkrEyF",
        "ZEooDyCjKEU8",
        "rfvLnvwdKW_l",
        "vD8rvDQwKqjf",
        "NWKdO7VwoHtl",
        "T3UAxbP_OFLB"
      ],
      "toc_visible": true,
      "include_colab_link": true
    },
    "kernelspec": {
      "name": "python3",
      "display_name": "Python 3"
    },
    "accelerator": "TPU"
  },
  "cells": [
    {
      "cell_type": "markdown",
      "metadata": {
        "id": "view-in-github",
        "colab_type": "text"
      },
      "source": [
        "<a href=\"https://colab.research.google.com/github/linkwine/big_data/blob/master/Traveling_Salesman_Project.ipynb\" target=\"_parent\"><img src=\"https://colab.research.google.com/assets/colab-badge.svg\" alt=\"Open In Colab\"/></a>"
      ]
    },
    {
      "metadata": {
        "id": "SpFkvjAP5bGS",
        "colab_type": "text"
      },
      "cell_type": "markdown",
      "source": [
        "## Traveling Sales Man Problem "
      ]
    },
    {
      "metadata": {
        "id": "_ksdkn8N6Hyn",
        "colab_type": "text"
      },
      "cell_type": "markdown",
      "source": [
        "Problem Description:\n",
        "\n",
        "* Find the Lat/Long of all 50 state capitols\n",
        "* Assume ‘as the crow flies’ (straight line)  travel (helicopter from city hall to city hall)\n",
        "* Choose a method for solving/optimizing\n",
        "* Parallelize\n",
        "* Find the shortest path that touches every place once except the starting point, and return (pick the starting points) \n",
        "* Define the problem, choose algorithm, figure out how to run it, did I find the right answer? \n",
        "\n",
        "ref: https://en.wikipedia.org/wiki/Travelling_salesman_problem"
      ]
    },
    {
      "metadata": {
        "id": "BoCjRvFmqsDZ",
        "colab_type": "text"
      },
      "cell_type": "markdown",
      "source": [
        "## Pre Setup"
      ]
    },
    {
      "metadata": {
        "id": "tbeyh3TBF4EG",
        "colab_type": "code",
        "outputId": "7b6ff506-b2a0-4d88-b273-8c8b916510cd",
        "colab": {
          "base_uri": "https://localhost:8080/",
          "height": 122
        }
      },
      "cell_type": "code",
      "source": [
        "## mount google drive to allow access\n",
        "from google.colab import drive\n",
        "drive.mount('/content/gdrive')"
      ],
      "execution_count": 0,
      "outputs": [
        {
          "output_type": "stream",
          "text": [
            "Go to this URL in a browser: https://accounts.google.com/o/oauth2/auth?client_id=947318989803-6bn6qk8qdgf4n4g3pfee6491hc0brc4i.apps.googleusercontent.com&redirect_uri=urn%3Aietf%3Awg%3Aoauth%3A2.0%3Aoob&scope=email%20https%3A%2F%2Fwww.googleapis.com%2Fauth%2Fdocs.test%20https%3A%2F%2Fwww.googleapis.com%2Fauth%2Fdrive%20https%3A%2F%2Fwww.googleapis.com%2Fauth%2Fdrive.photos.readonly%20https%3A%2F%2Fwww.googleapis.com%2Fauth%2Fpeopleapi.readonly&response_type=code\n",
            "\n",
            "Enter your authorization code:\n",
            "··········\n",
            "Mounted at /content/gdrive\n"
          ],
          "name": "stdout"
        }
      ]
    },
    {
      "metadata": {
        "id": "clp8Ao8VjErr",
        "colab_type": "code",
        "outputId": "9deb995a-18d3-4fdd-95c4-8c97b8fee334",
        "colab": {
          "base_uri": "https://localhost:8080/",
          "height": 119
        }
      },
      "cell_type": "code",
      "source": [
        "!ls \"./gdrive/Team Drives/Cloud9/\""
      ],
      "execution_count": 0,
      "outputs": [
        {
          "output_type": "stream",
          "text": [
            "'BAX 422_Group9.ipynb'\t       state_capitals.csv\n",
            "'BAX 422 - Homework 3.ipynb'   us_states_cap.gsheet\n",
            "'BAX 422 - Homework 4.ipynb'  'us_states_cap - us_states.csv'\n",
            " hw3.gdoc\t\t       us_states.csv\n",
            " mnist\t\t\t       us_states.gsheet\n",
            " Record_HW3.gsheet\n"
          ],
          "name": "stdout"
        }
      ]
    },
    {
      "metadata": {
        "id": "T3F4TrlzJNcM",
        "colab_type": "code",
        "colab": {}
      },
      "cell_type": "code",
      "source": [
        "from math import sin, cos, sqrt, atan2, radians\n",
        "import pandas as pd"
      ],
      "execution_count": 0,
      "outputs": []
    },
    {
      "metadata": {
        "id": "T1roXgpuhbqC",
        "colab_type": "code",
        "outputId": "6bff1089-d9ff-4fd1-c992-6e40d256c0cc",
        "colab": {
          "base_uri": "https://localhost:8080/",
          "height": 204
        }
      },
      "cell_type": "code",
      "source": [
        "data = pd.read_csv(\"./gdrive/Team Drives/Cloud9/us_states_cap - us_states.csv\")\n",
        "data.head()"
      ],
      "execution_count": 0,
      "outputs": [
        {
          "output_type": "execute_result",
          "data": {
            "text/html": [
              "<div>\n",
              "<style scoped>\n",
              "    .dataframe tbody tr th:only-of-type {\n",
              "        vertical-align: middle;\n",
              "    }\n",
              "\n",
              "    .dataframe tbody tr th {\n",
              "        vertical-align: top;\n",
              "    }\n",
              "\n",
              "    .dataframe thead th {\n",
              "        text-align: right;\n",
              "    }\n",
              "</style>\n",
              "<table border=\"1\" class=\"dataframe\">\n",
              "  <thead>\n",
              "    <tr style=\"text-align: right;\">\n",
              "      <th></th>\n",
              "      <th>state</th>\n",
              "      <th>latitude</th>\n",
              "      <th>longitude</th>\n",
              "      <th>name</th>\n",
              "    </tr>\n",
              "  </thead>\n",
              "  <tbody>\n",
              "    <tr>\n",
              "      <th>0</th>\n",
              "      <td>AK</td>\n",
              "      <td>58.301598</td>\n",
              "      <td>-134.420212</td>\n",
              "      <td>Alaska</td>\n",
              "    </tr>\n",
              "    <tr>\n",
              "      <th>1</th>\n",
              "      <td>AL</td>\n",
              "      <td>32.377716</td>\n",
              "      <td>-86.300568</td>\n",
              "      <td>Alabama</td>\n",
              "    </tr>\n",
              "    <tr>\n",
              "      <th>2</th>\n",
              "      <td>AR</td>\n",
              "      <td>34.746613</td>\n",
              "      <td>-92.288986</td>\n",
              "      <td>Arkansas</td>\n",
              "    </tr>\n",
              "    <tr>\n",
              "      <th>3</th>\n",
              "      <td>AZ</td>\n",
              "      <td>33.448143</td>\n",
              "      <td>-112.096962</td>\n",
              "      <td>Arizona</td>\n",
              "    </tr>\n",
              "    <tr>\n",
              "      <th>4</th>\n",
              "      <td>CA</td>\n",
              "      <td>38.576668</td>\n",
              "      <td>-121.493629</td>\n",
              "      <td>California</td>\n",
              "    </tr>\n",
              "  </tbody>\n",
              "</table>\n",
              "</div>"
            ],
            "text/plain": [
              "  state   latitude   longitude        name\n",
              "0    AK  58.301598 -134.420212      Alaska\n",
              "1    AL  32.377716  -86.300568     Alabama\n",
              "2    AR  34.746613  -92.288986    Arkansas\n",
              "3    AZ  33.448143 -112.096962     Arizona\n",
              "4    CA  38.576668 -121.493629  California"
            ]
          },
          "metadata": {
            "tags": []
          },
          "execution_count": 4
        }
      ]
    },
    {
      "metadata": {
        "id": "GtglulR59ktZ",
        "colab_type": "code",
        "outputId": "1efbf6ed-ac56-445a-b4ff-466eaa22ef02",
        "colab": {
          "base_uri": "https://localhost:8080/",
          "height": 170
        }
      },
      "cell_type": "code",
      "source": [
        "data.info()"
      ],
      "execution_count": 0,
      "outputs": [
        {
          "output_type": "stream",
          "text": [
            "<class 'pandas.core.frame.DataFrame'>\n",
            "RangeIndex: 50 entries, 0 to 49\n",
            "Data columns (total 4 columns):\n",
            "state        50 non-null object\n",
            "latitude     50 non-null float64\n",
            "longitude    50 non-null float64\n",
            "name         50 non-null object\n",
            "dtypes: float64(2), object(2)\n",
            "memory usage: 1.6+ KB\n"
          ],
          "name": "stdout"
        }
      ]
    },
    {
      "metadata": {
        "id": "bdaojuZfGO6a",
        "colab_type": "code",
        "outputId": "0e3c9399-68c1-4f9c-cdeb-43dc617690fb",
        "colab": {
          "base_uri": "https://localhost:8080/",
          "height": 34
        }
      },
      "cell_type": "code",
      "source": [
        "## count states (remove District of Columbia & Puerto Rico)\n",
        "len(data)\n"
      ],
      "execution_count": 0,
      "outputs": [
        {
          "output_type": "execute_result",
          "data": {
            "text/plain": [
              "50"
            ]
          },
          "metadata": {
            "tags": []
          },
          "execution_count": 6
        }
      ]
    },
    {
      "metadata": {
        "id": "dgh-WDPXJ20d",
        "colab_type": "code",
        "outputId": "dfd83316-5d73-4beb-e009-fc37849a5762",
        "colab": {
          "base_uri": "https://localhost:8080/",
          "height": 34
        }
      },
      "cell_type": "code",
      "source": [
        "radians(data[data['state']=='CA']['latitude'])"
      ],
      "execution_count": 0,
      "outputs": [
        {
          "output_type": "execute_result",
          "data": {
            "text/plain": [
              "0.6732898710487358"
            ]
          },
          "metadata": {
            "tags": []
          },
          "execution_count": 7
        }
      ]
    },
    {
      "metadata": {
        "id": "uNFQ0n-nIlP-",
        "colab_type": "code",
        "colab": {}
      },
      "cell_type": "code",
      "source": [
        "# Calculate the distance btween 2 stateis capital first\n",
        "# approximate radius of earth in km\n",
        "R = 6373.0\n",
        "\n",
        "# # identify 2 cities\n",
        "lat1 = radians(data[data['state']=='AK']['latitude'])\n",
        "lon1 = radians(data[data['state']=='AK']['longitude'])\n",
        "lat2 = radians(data[data['state']=='CA']['latitude'])\n",
        "lon2 = radians(data[data['state']=='CA']['longitude'])\n",
        "\n",
        "dlon = lon2 - lon1\n",
        "dlat = lat2 - lat1\n",
        "\n",
        "a = sin(dlat / 2)**2 + cos(lat1) * cos(lat2) * sin(dlon / 2)**2\n",
        "c = 2 * atan2(sqrt(a), sqrt(1 - a))\n",
        "\n",
        "distance = R * c"
      ],
      "execution_count": 0,
      "outputs": []
    },
    {
      "metadata": {
        "id": "OuZIFtNnJkgl",
        "colab_type": "code",
        "outputId": "302e0a43-0db2-4256-c0b5-3ac3ced7add7",
        "colab": {
          "base_uri": "https://localhost:8080/",
          "height": 34
        }
      },
      "cell_type": "code",
      "source": [
        "distance  ##from AK -- CA"
      ],
      "execution_count": 0,
      "outputs": [
        {
          "output_type": "execute_result",
          "data": {
            "text/plain": [
              "2382.8020510622882"
            ]
          },
          "metadata": {
            "tags": []
          },
          "execution_count": 9
        }
      ]
    },
    {
      "metadata": {
        "id": "DfvxoTZaKHYZ",
        "colab_type": "text"
      },
      "cell_type": "markdown",
      "source": [
        "## Algorithms"
      ]
    },
    {
      "metadata": {
        "id": "iZAizKYfKNFG",
        "colab_type": "text"
      },
      "cell_type": "markdown",
      "source": [
        "Basic method to solve traveling salesman problem would be recursive traversal. However, the runtime complexity of this algorithm is O(2^n).brute force method has a runtime of O(n!) or factorial time."
      ]
    },
    {
      "metadata": {
        "id": "HesilNWtLVSL",
        "colab_type": "text"
      },
      "cell_type": "markdown",
      "source": [
        "### 1. Greedy Algorithm"
      ]
    },
    {
      "metadata": {
        "id": "ie07jCKzTAjz",
        "colab_type": "text"
      },
      "cell_type": "markdown",
      "source": [
        "A greedy strategy for the traveling salesman problem is of the following heuristic: \"At each stage visit an unvisited city nearest to the current city\". This heuristic need not find a best solution, but terminates in a reasonable number of steps; finding an optimal solution typically requires unreasonably many steps.\n"
      ]
    },
    {
      "metadata": {
        "id": "j4O67AYvrL6K",
        "colab_type": "text"
      },
      "cell_type": "markdown",
      "source": [
        "#### Build Greedy\n"
      ]
    },
    {
      "metadata": {
        "id": "KuhINBf-PDQ8",
        "colab_type": "code",
        "colab": {}
      },
      "cell_type": "code",
      "source": [
        "import numpy as np\n",
        "import math\n",
        "import time"
      ],
      "execution_count": 0,
      "outputs": []
    },
    {
      "metadata": {
        "id": "368vqeCmLUrc",
        "colab_type": "code",
        "colab": {}
      },
      "cell_type": "code",
      "source": [
        "v = data.iloc[:,1:3]\n",
        " \n",
        "train_v= np.array(v)\n",
        "train_d=train_v\n",
        "\n",
        "dist = np.zeros((train_v.shape[0],train_d.shape[0]))"
      ],
      "execution_count": 0,
      "outputs": []
    },
    {
      "metadata": {
        "id": "YgAaHJO9-Swj",
        "colab_type": "code",
        "colab": {}
      },
      "cell_type": "code",
      "source": [
        "# ?np.zeros()"
      ],
      "execution_count": 0,
      "outputs": []
    },
    {
      "metadata": {
        "id": "KTYgn6sK9xXW",
        "colab_type": "code",
        "outputId": "e33baabf-c8b1-4c92-f3bb-2a34571ba9a3",
        "colab": {
          "base_uri": "https://localhost:8080/",
          "height": 204
        }
      },
      "cell_type": "code",
      "source": [
        "v.head()"
      ],
      "execution_count": 0,
      "outputs": [
        {
          "output_type": "execute_result",
          "data": {
            "text/html": [
              "<div>\n",
              "<style scoped>\n",
              "    .dataframe tbody tr th:only-of-type {\n",
              "        vertical-align: middle;\n",
              "    }\n",
              "\n",
              "    .dataframe tbody tr th {\n",
              "        vertical-align: top;\n",
              "    }\n",
              "\n",
              "    .dataframe thead th {\n",
              "        text-align: right;\n",
              "    }\n",
              "</style>\n",
              "<table border=\"1\" class=\"dataframe\">\n",
              "  <thead>\n",
              "    <tr style=\"text-align: right;\">\n",
              "      <th></th>\n",
              "      <th>latitude</th>\n",
              "      <th>longitude</th>\n",
              "    </tr>\n",
              "  </thead>\n",
              "  <tbody>\n",
              "    <tr>\n",
              "      <th>0</th>\n",
              "      <td>58.301598</td>\n",
              "      <td>-134.420212</td>\n",
              "    </tr>\n",
              "    <tr>\n",
              "      <th>1</th>\n",
              "      <td>32.377716</td>\n",
              "      <td>-86.300568</td>\n",
              "    </tr>\n",
              "    <tr>\n",
              "      <th>2</th>\n",
              "      <td>34.746613</td>\n",
              "      <td>-92.288986</td>\n",
              "    </tr>\n",
              "    <tr>\n",
              "      <th>3</th>\n",
              "      <td>33.448143</td>\n",
              "      <td>-112.096962</td>\n",
              "    </tr>\n",
              "    <tr>\n",
              "      <th>4</th>\n",
              "      <td>38.576668</td>\n",
              "      <td>-121.493629</td>\n",
              "    </tr>\n",
              "  </tbody>\n",
              "</table>\n",
              "</div>"
            ],
            "text/plain": [
              "    latitude   longitude\n",
              "0  58.301598 -134.420212\n",
              "1  32.377716  -86.300568\n",
              "2  34.746613  -92.288986\n",
              "3  33.448143 -112.096962\n",
              "4  38.576668 -121.493629"
            ]
          },
          "metadata": {
            "tags": []
          },
          "execution_count": 13
        }
      ]
    },
    {
      "metadata": {
        "id": "i8Bvs8bE6JN8",
        "colab_type": "code",
        "colab": {}
      },
      "cell_type": "code",
      "source": [
        "# function to calculate distance\n",
        "def haversine(lon1, lat1, lon2, lat2):\n",
        "  \"\"\"\n",
        "  Calculate the great circle distance between two points \n",
        "  n the earth (specified in decimal degrees).\n",
        "  Source: https://gis.stackexchange.com/a/56589/15183\n",
        "  \"\"\"\n",
        "  # convert decimal degrees to radians \n",
        "  lon1, lat1, lon2, lat2 = map(math.radians, [lon1, lat1, lon2, lat2])\n",
        "  # haversine formula \n",
        "  dlon = lon2 - lon1 \n",
        "  dlat = lat2 - lat1 \n",
        "  a = math.sin(dlat/2)**2 + math.cos(lat1) * math.cos(lat2) * math.sin(dlon/2)**2\n",
        "  c = 2 * math.asin(math.sqrt(a)) \n",
        "  distance = 6373 * c  # approximate radius of earth in km --- R = 6373.0\n",
        "  return distance"
      ],
      "execution_count": 0,
      "outputs": []
    },
    {
      "metadata": {
        "id": "Jn-XteTD_9Sh",
        "colab_type": "code",
        "outputId": "cddf041b-851a-4ba6-86f7-d16f67eb0c67",
        "colab": {
          "base_uri": "https://localhost:8080/",
          "height": 34
        }
      },
      "cell_type": "code",
      "source": [
        "distance"
      ],
      "execution_count": 0,
      "outputs": [
        {
          "output_type": "execute_result",
          "data": {
            "text/plain": [
              "2382.8020510622882"
            ]
          },
          "metadata": {
            "tags": []
          },
          "execution_count": 15
        }
      ]
    },
    {
      "metadata": {
        "id": "iwIXYfxOKMQH",
        "colab_type": "code",
        "colab": {}
      },
      "cell_type": "code",
      "source": [
        "# calculate distance\n",
        "for i in range(train_v.shape[0]):\n",
        "    for j in range(train_d.shape[0]):\n",
        "        dist[i,j] = haversine(train_v[i,1],train_v[i,0],train_d[j,1],train_d[j,0]) "
      ],
      "execution_count": 0,
      "outputs": []
    },
    {
      "metadata": {
        "id": "UN9tniwX5_gU",
        "colab_type": "code",
        "outputId": "aa67793f-15ae-4d12-94fe-f6ec388f220f",
        "colab": {
          "base_uri": "https://localhost:8080/",
          "height": 68
        }
      },
      "cell_type": "code",
      "source": [
        "dist[0:3,0:3]"
      ],
      "execution_count": 0,
      "outputs": [
        {
          "output_type": "execute_result",
          "data": {
            "text/plain": [
              "array([[   0.        , 4588.0373093 , 4046.36656887],\n",
              "       [4588.0373093 ,    0.        ,  614.2594853 ],\n",
              "       [4046.36656887,  614.2594853 ,    0.        ]])"
            ]
          },
          "metadata": {
            "tags": []
          },
          "execution_count": 17
        }
      ]
    },
    {
      "metadata": {
        "id": "E1HvuotTKdfd",
        "colab_type": "code",
        "colab": {}
      },
      "cell_type": "code",
      "source": [
        "origin_city_id = []\n",
        "shortest_dis = []\n",
        "\n",
        "for origin_id in range(0,49):\n",
        "  origin_city=origin_id\n",
        "  from_city=origin_id\n",
        "  to_city=0\n",
        "  sumpath=0\n",
        "  flag = [origin_id]\n",
        "  travel_city = []\n",
        "\n",
        "  for n_iterations in range(0,48):\n",
        "    test_city_number = []\n",
        "    test_city_dist = []\n",
        "    for test_city in range(0,49):\n",
        "      if test_city in flag:\n",
        "        next\n",
        "      else:\n",
        "        test_city_number.append(test_city)\n",
        "        test_city_dist.append(dist[from_city][test_city])\n",
        "    sumpath+=min(test_city_dist)\n",
        "    to_city = test_city_number[test_city_dist.index(min(test_city_dist))]\n",
        "    travel_city.append(to_city)\n",
        "    flag.append(to_city)\n",
        "    from_city=to_city\n",
        "  sumpath+=dist[from_city][origin_city]\n",
        "  \n",
        "  origin_city_id.append(origin_id)\n",
        "  shortest_dis.append(sumpath)"
      ],
      "execution_count": 0,
      "outputs": []
    },
    {
      "metadata": {
        "id": "IN-o1ZoSq-OZ",
        "colab_type": "code",
        "outputId": "327c1efd-a49a-46b6-ac07-73949ba9b1c2",
        "colab": {
          "base_uri": "https://localhost:8080/",
          "height": 34
        }
      },
      "cell_type": "code",
      "source": [
        "## shortest route with greedy algo\n",
        "min(shortest_dis)"
      ],
      "execution_count": 0,
      "outputs": [
        {
          "output_type": "execute_result",
          "data": {
            "text/plain": [
              "31326.169977331487"
            ]
          },
          "metadata": {
            "tags": []
          },
          "execution_count": 19
        }
      ]
    },
    {
      "metadata": {
        "id": "J82CrQ2KrAdM",
        "colab_type": "code",
        "outputId": "30aacb58-6877-437b-ea0f-b42580780fb1",
        "colab": {
          "base_uri": "https://localhost:8080/",
          "height": 34
        }
      },
      "cell_type": "code",
      "source": [
        "## start with this city\n",
        "origin_city_id[shortest_dis.index(min(shortest_dis))]"
      ],
      "execution_count": 0,
      "outputs": [
        {
          "output_type": "execute_result",
          "data": {
            "text/plain": [
              "4"
            ]
          },
          "metadata": {
            "tags": []
          },
          "execution_count": 20
        }
      ]
    },
    {
      "metadata": {
        "id": "7oLyyw1WrCPm",
        "colab_type": "code",
        "colab": {}
      },
      "cell_type": "code",
      "source": [
        "## best route\n",
        "origin_city=4\n",
        "from_city=4\n",
        "to_city=0\n",
        "sumpath=0\n",
        "flag = [4]\n",
        "\n",
        "for n_iterations in range(0,48):\n",
        "  test_city_number = []\n",
        "  test_city_dist = []\n",
        "  for test_city in range(0,49):\n",
        "    if test_city in flag:\n",
        "      next\n",
        "    else:\n",
        "      test_city_number.append(test_city)\n",
        "      test_city_dist.append(dist[from_city][test_city])\n",
        "  sumpath+=min(test_city_dist)\n",
        "  to_city = test_city_number[test_city_dist.index(min(test_city_dist))]\n",
        "  travel_city.append(to_city)\n",
        "  flag.append(to_city)\n",
        "  from_city=to_city\n",
        "sumpath+=dist[from_city][origin_city]"
      ],
      "execution_count": 0,
      "outputs": []
    },
    {
      "metadata": {
        "id": "Zh56XvtkrEyF",
        "colab_type": "text"
      },
      "cell_type": "markdown",
      "source": [
        "#### Greedy's Answer"
      ]
    },
    {
      "metadata": {
        "id": "DYTctEpCrDQb",
        "colab_type": "code",
        "outputId": "fe6ad1a1-7846-4f43-ec39-5a33fb761476",
        "colab": {
          "base_uri": "https://localhost:8080/",
          "height": 54
        }
      },
      "cell_type": "code",
      "source": [
        "## verify sumpath is same as above\n",
        "sumpath"
      ],
      "execution_count": 0,
      "outputs": [
        {
          "output_type": "execute_result",
          "data": {
            "text/plain": [
              "31326.169977331487"
            ]
          },
          "metadata": {
            "tags": []
          },
          "execution_count": 22
        }
      ]
    },
    {
      "metadata": {
        "id": "V8j_xORsrIls",
        "colab_type": "code",
        "outputId": "cbfc3981-4dba-446e-e940-8aa7290c40d3",
        "colab": {
          "base_uri": "https://localhost:8080/",
          "height": 870
        }
      },
      "cell_type": "code",
      "source": [
        "## travel sequence\n",
        "for i in flag:\n",
        "  print(data['state'][i])"
      ],
      "execution_count": 0,
      "outputs": [
        {
          "output_type": "stream",
          "text": [
            "CA\n",
            "NV\n",
            "UT\n",
            "CO\n",
            "NE\n",
            "SD\n",
            "ND\n",
            "MN\n",
            "IA\n",
            "IL\n",
            "MO\n",
            "AR\n",
            "MS\n",
            "LA\n",
            "AL\n",
            "HI\n",
            "TN\n",
            "KY\n",
            "OH\n",
            "IN\n",
            "MI\n",
            "WI\n",
            "WV\n",
            "VA\n",
            "NC\n",
            "SC\n",
            "GA\n",
            "MD\n",
            "DE\n",
            "NJ\n",
            "CT\n",
            "RI\n",
            "MA\n",
            "NH\n",
            "VT\n",
            "NY\n",
            "PA\n",
            "ME\n",
            "KS\n",
            "OK\n",
            "TX\n",
            "NM\n",
            "AZ\n",
            "ID\n",
            "OR\n",
            "WA\n",
            "MT\n",
            "AK\n",
            "FL\n"
          ],
          "name": "stdout"
        }
      ]
    },
    {
      "metadata": {
        "id": "ZEooDyCjKEU8",
        "colab_type": "text"
      },
      "cell_type": "markdown",
      "source": [
        "### 2. Google's Algorithm"
      ]
    },
    {
      "metadata": {
        "id": "N9ryqpYhKBBF",
        "colab_type": "text"
      },
      "cell_type": "markdown",
      "source": [
        "https://developers.google.com/optimization/routing/tsp"
      ]
    },
    {
      "metadata": {
        "id": "rfvLnvwdKW_l",
        "colab_type": "text"
      },
      "cell_type": "markdown",
      "source": [
        "#### Set Up"
      ]
    },
    {
      "metadata": {
        "id": "pB-ocmYzK6zT",
        "colab_type": "code",
        "colab": {}
      },
      "cell_type": "code",
      "source": [
        "AL    = (32.377716,\t-86.300568 )\n",
        "AK    = (58.301598,\t-134.420212)\n",
        "AZ    = (33.448143,\t-112.096962)\n",
        "AR    = (34.746613,\t-92.288986 )\n",
        "CA    = (38.576668,\t-121.493629)\n",
        "CO    = (39.739227,\t-104.984856)\n",
        "CT    = (41.764046,\t-72.682198 )\n",
        "DE    = (39.157307,\t-75.519722 )\n",
        "FL    = (21.307442,\t-157.857376)\n",
        "GA    = (30.438118,\t-84.281296 )\n",
        "HI\t\t=\t(33.749027,\t-84.388229 )\n",
        "ID\t\t=\t(43.617775,\t-116.199722)\n",
        "IL\t\t=\t(39.798363,\t-89.654961 )\n",
        "IN\t\t=\t(39.768623,\t-86.162643 )\n",
        "IA\t\t=\t(41.591087,\t-93.603729 )\n",
        "KS\t\t=\t(39.048191,\t-95.677956 )\n",
        "KY\t\t=\t(38.186722,\t-84.875374 )\n",
        "LA\t\t=\t(30.457069,\t-91.187393 )\n",
        "ME\t\t=\t(44.307167,\t-69.781693 )\n",
        "MD\t\t=\t(38.978764,\t-76.490936 )\n",
        "MA\t\t=\t(42.358162,\t-71.063698 )\n",
        "MI\t\t=\t(42.733635,\t-84.555328 )\n",
        "MN\t\t=\t(44.955097,\t-93.102211 )\n",
        "MS\t\t=\t(32.303848,\t-90.182106 )\n",
        "MO\t\t=\t(38.579201,\t-92.172935 )\n",
        "MT\t\t=\t(46.585709,\t-112.018417)\n",
        "NE\t\t=\t(40.808075,\t-96.699654 )\n",
        "NV\t\t=\t(39.163914,\t-119.766121)\n",
        "NH\t\t=\t(43.206898,\t-71.537994 )\n",
        "NJ\t\t=\t(40.220596,\t-74.769913 )\n",
        "NM\t\t=\t(35.68224,\t-105.939728)\n",
        "NY\t\t=\t(35.78043,\t-78.639099 )\n",
        "NC\t\t=\t(46.82085,\t-100.783318)\n",
        "ND\t\t=\t(42.652843,\t-73.757874 )\n",
        "OH\t\t=\t(39.961346,\t-82.999069 )\n",
        "OK\t\t=\t(35.492207,\t-97.503342 )\n",
        "OR\t\t=\t(44.938461,\t-123.030403)\n",
        "PA\t\t=\t(40.264378,\t-76.883598 )\n",
        "RI\t\t=\t(41.830914,\t-71.414963 )\n",
        "SC\t\t=\t(34.000343,\t-81.033211 )\n",
        "SD\t\t=\t(44.367031,\t-100.346405)\n",
        "TN\t\t=\t(36.16581,\t-86.784241 )\n",
        "TX\t\t=\t(30.27467,\t-97.740349 )\n",
        "UT\t\t=\t(40.777477,\t-111.888237)\n",
        "VT\t\t=\t(44.262436,\t-72.580536 )\n",
        "VA\t\t=\t(37.538857,\t-77.43364  )\n",
        "WA\t\t=\t(47.035805,\t-122.905014)\n",
        "WV\t\t=\t(38.336246,\t-81.612328 )\n",
        "WI\t\t=\t(43.074684,\t-89.384445 )\n",
        "WY\t\t=\t(41.140259,\t-104.820236)\n"
      ],
      "execution_count": 0,
      "outputs": []
    },
    {
      "metadata": {
        "id": "xNVqgGl3xcKk",
        "colab_type": "code",
        "colab": {}
      },
      "cell_type": "code",
      "source": [
        "city_names = ['AL', 'AK', 'AR', 'AZ', 'CA', 'CO', 'CT', 'DE', 'FL', 'GA', 'HI', 'IA', 'ID', 'IL', 'IN', 'KS', 'KY', 'LA', 'MA', 'MD', 'ME', 'MI', 'MN', 'MO', 'MS', 'MT', 'NC', 'ND', 'NE', 'NH', 'NJ', 'NM', 'NV', 'NY', 'OH', 'OK', 'OR', 'PA', 'RI', 'SC', 'SD', 'TN', 'TX', 'UT', 'VA', 'VT', 'WA', 'WI', 'WV', 'WY']\n",
        "cities = [AL, AK, AR, AZ, CA, CO, CT, DE, FL, GA, HI, IA, ID, IL, IN, KS, KY, LA, MA, MD, ME, MI, MN, MO, MS, MT, NC, ND, NE, NH, NJ, NM, NV, NY, OH, OK, OR, PA, RI, SC, SD, TN, TX, UT, VA, VT, WA, WI, WV, WY]"
      ],
      "execution_count": 0,
      "outputs": []
    },
    {
      "metadata": {
        "id": "x-y5Ae3xKSMl",
        "colab_type": "code",
        "colab": {}
      },
      "cell_type": "code",
      "source": [
        "import math\n",
        "\n",
        "\n",
        "def dcalc(origin, destination):\n",
        "    \"\"\"\n",
        "    Calculate the Haversine distance.\n",
        "\n",
        "    Parameters\n",
        "    ----------\n",
        "    origin : tuple of float\n",
        "        (lat, long)\n",
        "    destination : tuple of float\n",
        "        (lat, long)\n",
        "\n",
        "    Returns\n",
        "    -------\n",
        "    distance_in_km : float\n",
        "\n",
        "    Examples\n",
        "    --------\n",
        "    >>> origin = (48.1372, 11.5756)  # Munich\n",
        "    >>> destination = (52.5186, 13.4083)  # Berlin\n",
        "    >>> round(distance(origin, destination), 1)\n",
        "    504.2\n",
        "    \"\"\"\n",
        "    lat1, lon1 = origin\n",
        "    lat2, lon2 = destination\n",
        "    radius = 6371  # km\n",
        "\n",
        "    dlat = math.radians(lat2 - lat1)\n",
        "    dlon = math.radians(lon2 - lon1)\n",
        "    a = (math.sin(dlat / 2) * math.sin(dlat / 2) +\n",
        "         math.cos(math.radians(lat1)) * math.cos(math.radians(lat2)) *\n",
        "         math.sin(dlon / 2) * math.sin(dlon / 2))\n",
        "    c = 2 * math.atan2(math.sqrt(a), math.sqrt(1 - a))\n",
        "    d = radius * c\n",
        "\n",
        "    return d"
      ],
      "execution_count": 0,
      "outputs": []
    },
    {
      "metadata": {
        "id": "HbeQEd1hKi2t",
        "colab_type": "code",
        "colab": {}
      },
      "cell_type": "code",
      "source": [
        "import numpy as np\n",
        "dist = np.zeros((len(cities),len(cities)))\n",
        "for i in range(len(cities)):\n",
        "    for j in range(len(cities)):\n",
        "        dist[i,j] = dcalc(cities[i], cities[j])   "
      ],
      "execution_count": 0,
      "outputs": []
    },
    {
      "metadata": {
        "id": "vD8rvDQwKqjf",
        "colab_type": "text"
      },
      "cell_type": "markdown",
      "source": [
        "#### Build Google's Algorithm"
      ]
    },
    {
      "metadata": {
        "id": "Z616UCkQKptk",
        "colab_type": "code",
        "outputId": "94b9b35b-1157-48d1-e6fd-db8d2df732a4",
        "colab": {
          "base_uri": "https://localhost:8080/",
          "height": 34
        }
      },
      "cell_type": "code",
      "source": [
        "!pip -q install ortools\n",
        "from ortools.constraint_solver import pywrapcp\n",
        "from ortools.constraint_solver import routing_enums_pb2\n",
        "\n",
        "\n",
        "# Distance callback\n",
        "def create_distance_callback(dist):\n",
        "  # Create a callback to calculate distances between cities.\n",
        "\n",
        "  def distance_callback(from_node, to_node):\n",
        "    return int(dist[from_node][to_node])\n",
        "\n",
        "  return distance_callback\n",
        "\n",
        "def tsp(depot):\n",
        "\n",
        "\n",
        "  tsp_size = len(city_names)\n",
        "  num_routes = 1\n",
        "  #depot = 0\n",
        "\n",
        "  # Create routing model\n",
        "  if tsp_size > 0:\n",
        "    routing = pywrapcp.RoutingModel(tsp_size, num_routes, depot)\n",
        "    search_parameters = pywrapcp.RoutingModel.DefaultSearchParameters()\n",
        "    # Create the distance callback.\n",
        "    dist_callback = create_distance_callback(dist)\n",
        "    routing.SetArcCostEvaluatorOfAllVehicles(dist_callback)\n",
        "    # Solve the problem.\n",
        "    assignment = routing.SolveWithParameters(search_parameters)\n",
        "    if assignment:\n",
        "      # Solution distance.\n",
        "      #print ()\n",
        "      # Display the solution.\n",
        "      # Only one route here; otherwise iterate from 0 to routing.vehicles() - 1\n",
        "      route_number = 0\n",
        "      index = routing.Start(route_number) # Index of the variable for the starting node.\n",
        "      route = ''\n",
        "      while not routing.IsEnd(index):\n",
        "        # Convert variable indices to node indices in the displayed route.\n",
        "        route += str(city_names[routing.IndexToNode(index)]) + ' -> '\n",
        "        index = assignment.Value(routing.NextVar(index))\n",
        "      route += str(city_names[routing.IndexToNode(index)])\n",
        "      #print ()\n",
        "    else:\n",
        "      print ('No solution found.')\n",
        "  else:\n",
        "    print ('Specify an instance greater than 0.')\n",
        "  #print(str(assignment.ObjectiveValue()) + \"miles \" + route)  \n",
        "  return (str(assignment.ObjectiveValue()), route) \n",
        "\n",
        "\n",
        "\n",
        "\n",
        "\n",
        "  "
      ],
      "execution_count": 0,
      "outputs": [
        {
          "output_type": "stream",
          "text": [
            "\u001b[K    100% |████████████████████████████████| 23.7MB 1.2MB/s \n",
            "\u001b[?25h"
          ],
          "name": "stdout"
        }
      ]
    },
    {
      "metadata": {
        "colab_type": "text",
        "id": "NWKdO7VwoHtl"
      },
      "cell_type": "markdown",
      "source": [
        "#### Multiprocessing"
      ]
    },
    {
      "metadata": {
        "id": "2H9vNPmyKaxT",
        "colab_type": "code",
        "colab": {}
      },
      "cell_type": "code",
      "source": [
        "import multiprocessing as mp\n",
        "from multiprocessing import Pool\n",
        "\n",
        "\n",
        "pool = mp.Pool(processes=50)\n",
        "results = [pool.apply(tsp, args=(x,)) for x in range(len(cities))]\n"
      ],
      "execution_count": 0,
      "outputs": []
    },
    {
      "metadata": {
        "id": "T3UAxbP_OFLB",
        "colab_type": "text"
      },
      "cell_type": "markdown",
      "source": [
        "#### Google's Answer"
      ]
    },
    {
      "metadata": {
        "id": "bNbnz2M1ODMA",
        "colab_type": "code",
        "outputId": "75f14105-5157-42fa-fb98-c4d276015e77",
        "colab": {
          "base_uri": "https://localhost:8080/",
          "height": 54
        }
      },
      "cell_type": "code",
      "source": [
        "print(min(results))"
      ],
      "execution_count": 0,
      "outputs": [
        {
          "output_type": "stream",
          "text": [
            "('26210', 'NV -> CA -> FL -> AK -> WA -> OR -> ID -> MT -> UT -> CO -> WY -> SD -> NC -> MN -> WI -> MI -> OH -> WV -> PA -> ND -> VT -> ME -> NH -> MA -> RI -> CT -> NJ -> DE -> MD -> VA -> NY -> SC -> GA -> AL -> HI -> TN -> KY -> IN -> IL -> IA -> NE -> KS -> MO -> AR -> MS -> LA -> TX -> OK -> NM -> AZ -> NV')\n"
          ],
          "name": "stdout"
        }
      ]
    },
    {
      "metadata": {
        "id": "IzeMVTGV5EIe",
        "colab_type": "text"
      },
      "cell_type": "markdown",
      "source": [
        "### 3. Genetic Algorithm \n",
        "\n",
        "Ref from: \n",
        "https://towardsdatascience.com/evolution-of-a-salesman-a-complete-genetic-algorithm-tutorial-for-python-6fe5d2b3ca35\n"
      ]
    },
    {
      "metadata": {
        "id": "Z3UgugRu5fxT",
        "colab_type": "text"
      },
      "cell_type": "markdown",
      "source": [
        "#### Build Genetic Algorithm\n"
      ]
    },
    {
      "metadata": {
        "id": "QZCGli8H5QCr",
        "colab_type": "code",
        "colab": {}
      },
      "cell_type": "code",
      "source": [
        "import numpy as np, random, operator, pandas as pd, matplotlib.pyplot as plt"
      ],
      "execution_count": 0,
      "outputs": []
    },
    {
      "metadata": {
        "id": "pvstjSpS5ri2",
        "colab_type": "code",
        "colab": {}
      },
      "cell_type": "code",
      "source": [
        "class City:\n",
        "    def __init__(self, x, y):\n",
        "        self.x = x\n",
        "        self.y = y\n",
        "    \n",
        "    def distance(self, city):\n",
        "        lat1 = radians(self.x)\n",
        "        lon1 = radians(self.y)\n",
        "        lat2 = radians(city.x)\n",
        "        lon2 = radians(city.y)\n",
        "        \n",
        "        dlon = lon2-lon1\n",
        "        dlat = lat2-lat1\n",
        "        #xDis = abs(self.x - city.x)\n",
        "        #yDis = abs(self.y - city.y)\n",
        "        #old Euclidean method --  \n",
        "        #distance = np.sqrt((xDis ** 2) + (yDis ** 2))\n",
        "        a = math.sin(dlat/2)**2 + math.cos(lat1) * math.cos(lat2) * math.sin(dlon/2)**2\n",
        "        c = 2 * math.asin(math.sqrt(a)) \n",
        "        distance = 6373 * c  # approximate radius of earth in km --- R = 6373.0\n",
        "        return distance\n",
        "\n",
        "    def __repr__(self):\n",
        "        return \"(\" + str(round(self.x,6)) + \",\" + str(round(self.y,6)) + \")\"\n",
        "        "
      ],
      "execution_count": 0,
      "outputs": []
    },
    {
      "metadata": {
        "id": "eO5vkAPx6wdr",
        "colab_type": "code",
        "colab": {}
      },
      "cell_type": "code",
      "source": [
        "class Fitness:\n",
        "    def __init__(self, route):\n",
        "        self.route = route\n",
        "        self.distance = 0\n",
        "        self.fitness= 0.0\n",
        "    \n",
        "    def routeDistance(self):\n",
        "        if self.distance ==0:\n",
        "            pathDistance = 0\n",
        "            for i in range(0, len(self.route)):\n",
        "                fromCity = self.route[i]\n",
        "                toCity = None\n",
        "                if i + 1 < len(self.route):\n",
        "                    toCity = self.route[i + 1]\n",
        "                else:\n",
        "                    toCity = self.route[0]\n",
        "                pathDistance += fromCity.distance(toCity)\n",
        "            self.distance = pathDistance\n",
        "        return self.distance\n",
        "    \n",
        "    def routeFitness(self):\n",
        "        if self.fitness == 0:\n",
        "            self.fitness = 1 / float(self.routeDistance())\n",
        "        return self.fitness\n"
      ],
      "execution_count": 0,
      "outputs": []
    },
    {
      "metadata": {
        "id": "rMJKunFL65wI",
        "colab_type": "code",
        "colab": {}
      },
      "cell_type": "code",
      "source": [
        "def createRoute(cityList):\n",
        "    route = random.sample(cityList, len(cityList))\n",
        "    return route"
      ],
      "execution_count": 0,
      "outputs": []
    },
    {
      "metadata": {
        "id": "00w3HuFq6it4",
        "colab_type": "code",
        "colab": {}
      },
      "cell_type": "code",
      "source": [
        "def initialPopulation(popSize, cityList):\n",
        "    population = []\n",
        "\n",
        "    for i in range(0, popSize):\n",
        "        population.append(createRoute(cityList))\n",
        "    return population"
      ],
      "execution_count": 0,
      "outputs": []
    },
    {
      "metadata": {
        "id": "KEkdo7XU74ad",
        "colab_type": "code",
        "colab": {}
      },
      "cell_type": "code",
      "source": [
        "def rankRoutes(population):\n",
        "    fitnessResults = {}\n",
        "    for i in range(0,len(population)):\n",
        "        fitnessResults[i] = Fitness(population[i]).routeFitness()\n",
        "    return sorted(fitnessResults.items(), key = operator.itemgetter(1), reverse = True)"
      ],
      "execution_count": 0,
      "outputs": []
    },
    {
      "metadata": {
        "id": "j0HZ_TLc9Tsq",
        "colab_type": "code",
        "colab": {}
      },
      "cell_type": "code",
      "source": [
        "def selection(popRanked, eliteSize):\n",
        "    selectionResults = []\n",
        "    df = pd.DataFrame(np.array(popRanked), columns=[\"Index\",\"Fitness\"])\n",
        "    df['cum_sum'] = df.Fitness.cumsum()\n",
        "    df['cum_perc'] = 100*df.cum_sum/df.Fitness.sum()\n",
        "    \n",
        "    for i in range(0, eliteSize):\n",
        "        selectionResults.append(popRanked[i][0])\n",
        "    for i in range(0, len(popRanked) - eliteSize):\n",
        "        pick = 100*random.random()\n",
        "        for i in range(0, len(popRanked)):\n",
        "            if pick <= df.iat[i,3]:\n",
        "                selectionResults.append(popRanked[i][0])\n",
        "                break\n",
        "    return selectionResults"
      ],
      "execution_count": 0,
      "outputs": []
    },
    {
      "metadata": {
        "id": "vihSqQda9d1f",
        "colab_type": "code",
        "colab": {}
      },
      "cell_type": "code",
      "source": [
        "def matingPool(population, selectionResults):\n",
        "    matingpool = []\n",
        "    for i in range(0, len(selectionResults)):\n",
        "        index = selectionResults[i]\n",
        "        matingpool.append(population[index])\n",
        "    return matingpool"
      ],
      "execution_count": 0,
      "outputs": []
    },
    {
      "metadata": {
        "id": "Wswg7QTa9gFe",
        "colab_type": "code",
        "colab": {}
      },
      "cell_type": "code",
      "source": [
        "def breed(parent1, parent2):\n",
        "    child = []\n",
        "    childP1 = []\n",
        "    childP2 = []\n",
        "    \n",
        "    geneA = int(random.random() * len(parent1))\n",
        "    geneB = int(random.random() * len(parent1))\n",
        "    \n",
        "    startGene = min(geneA, geneB)\n",
        "    endGene = max(geneA, geneB)\n",
        "\n",
        "    for i in range(startGene, endGene):\n",
        "        childP1.append(parent1[i])\n",
        "        \n",
        "    childP2 = [item for item in parent2 if item not in childP1]\n",
        "\n",
        "    child = childP1 + childP2\n",
        "    return child"
      ],
      "execution_count": 0,
      "outputs": []
    },
    {
      "metadata": {
        "id": "gDuR1T1V92Yd",
        "colab_type": "code",
        "colab": {}
      },
      "cell_type": "code",
      "source": [
        "def breedPopulation(matingpool, eliteSize):\n",
        "    children = []\n",
        "    length = len(matingpool) - eliteSize\n",
        "    pool = random.sample(matingpool, len(matingpool))\n",
        "\n",
        "    for i in range(0,eliteSize):\n",
        "        children.append(matingpool[i])\n",
        "    \n",
        "    for i in range(0, length):\n",
        "        child = breed(pool[i], pool[len(matingpool)-i-1])\n",
        "        children.append(child)\n",
        "    return children\n"
      ],
      "execution_count": 0,
      "outputs": []
    },
    {
      "metadata": {
        "id": "pNlWG-la95nI",
        "colab_type": "code",
        "colab": {}
      },
      "cell_type": "code",
      "source": [
        "def mutate(individual, mutationRate):\n",
        "    for swapped in range(len(individual)):\n",
        "        if(random.random() < mutationRate):\n",
        "            swapWith = int(random.random() * len(individual))\n",
        "            \n",
        "            city1 = individual[swapped]\n",
        "            city2 = individual[swapWith]\n",
        "            \n",
        "            individual[swapped] = city2\n",
        "            individual[swapWith] = city1\n",
        "    return individual"
      ],
      "execution_count": 0,
      "outputs": []
    },
    {
      "metadata": {
        "id": "EJcPubo498WN",
        "colab_type": "code",
        "colab": {}
      },
      "cell_type": "code",
      "source": [
        "def mutatePopulation(population, mutationRate):\n",
        "    mutatedPop = []\n",
        "    \n",
        "    for ind in range(0, len(population)):\n",
        "        mutatedInd = mutate(population[ind], mutationRate)\n",
        "        mutatedPop.append(mutatedInd)\n",
        "    return mutatedPop"
      ],
      "execution_count": 0,
      "outputs": []
    },
    {
      "metadata": {
        "id": "VxAPIZrJ9-jO",
        "colab_type": "code",
        "colab": {}
      },
      "cell_type": "code",
      "source": [
        "def nextGeneration(currentGen, eliteSize, mutationRate):\n",
        "    popRanked = rankRoutes(currentGen)\n",
        "    selectionResults = selection(popRanked, eliteSize)\n",
        "    matingpool = matingPool(currentGen, selectionResults)\n",
        "    children = breedPopulation(matingpool, eliteSize)\n",
        "    nextGeneration = mutatePopulation(children, mutationRate)\n",
        "    return nextGeneration\n"
      ],
      "execution_count": 0,
      "outputs": []
    },
    {
      "metadata": {
        "id": "0c6MAyYH-CH6",
        "colab_type": "code",
        "colab": {}
      },
      "cell_type": "code",
      "source": [
        "def geneticAlgorithm(population, popSize, eliteSize, mutationRate, generations):\n",
        "    pop = initialPopulation(popSize, population)\n",
        "    print(\"Initial distance: \" + str(1 / rankRoutes(pop)[0][1]))\n",
        "    \n",
        "    for i in range(0, generations):\n",
        "        pop = nextGeneration(pop, eliteSize, mutationRate)\n",
        "    \n",
        "    print(\"Final distance: \" + str(1 / rankRoutes(pop)[0][1]))\n",
        "    bestRouteIndex = rankRoutes(pop)[0][0]\n",
        "    bestRoute = pop[bestRouteIndex]\n",
        "    return bestRoute"
      ],
      "execution_count": 0,
      "outputs": []
    },
    {
      "metadata": {
        "id": "7W05ESFP_vhK",
        "colab_type": "code",
        "colab": {}
      },
      "cell_type": "code",
      "source": [
        "cityList = []\n",
        "\n",
        "for i in range(0,49):\n",
        "    #cityList.append(City(x= int(v.iloc[i,0]), y=int(v.iloc[i,1])))\n",
        "    cityList.append(City(x= v.iloc[i,0], y=v.iloc[i,1]))"
      ],
      "execution_count": 0,
      "outputs": []
    },
    {
      "metadata": {
        "id": "i-H6kspG-3I2",
        "colab_type": "code",
        "outputId": "30ffb42a-129f-44b0-f915-7072c3754ec6",
        "colab": {
          "base_uri": "https://localhost:8080/",
          "height": 884
        }
      },
      "cell_type": "code",
      "source": [
        "## inital test on small population and generation\n",
        "geneticAlgorithm(population=cityList, popSize=100, eliteSize=20, mutationRate=0.05, generations=2000)"
      ],
      "execution_count": 0,
      "outputs": [
        {
          "output_type": "stream",
          "text": [
            "Initial distance: 82426.63081869342\n",
            "Final distance: 74191.65740261775\n"
          ],
          "name": "stdout"
        },
        {
          "output_type": "execute_result",
          "data": {
            "text/plain": [
              "[(33,-81),\n",
              " (30,-84),\n",
              " (33,-84),\n",
              " (31,-92),\n",
              " (46,-110),\n",
              " (40,-85),\n",
              " (35,-86),\n",
              " (41,-93),\n",
              " (41,-77),\n",
              " (41,-72),\n",
              " (43,-74),\n",
              " (43,-71),\n",
              " (40,-82),\n",
              " (37,-91),\n",
              " (39,-104),\n",
              " (39,-89),\n",
              " (46,-94),\n",
              " (39,-98),\n",
              " (38,-121),\n",
              " (33,-112),\n",
              " (42,-71),\n",
              " (34,-105),\n",
              " (34,-92),\n",
              " (47,-101),\n",
              " (47,-120),\n",
              " (39,-76),\n",
              " (44,-85),\n",
              " (38,-116),\n",
              " (43,-116),\n",
              " (58,-134),\n",
              " (35,-79),\n",
              " (38,-80),\n",
              " (32,-86),\n",
              " (41,-71),\n",
              " (45,-69),\n",
              " (44,-72),\n",
              " (43,-88),\n",
              " (31,-99),\n",
              " (43,-99),\n",
              " (41,-99),\n",
              " (40,-74),\n",
              " (37,-84),\n",
              " (32,-89),\n",
              " (39,-75),\n",
              " (39,-111),\n",
              " (43,-120),\n",
              " (21,-157),\n",
              " (35,-97),\n",
              " (37,-78)]"
            ]
          },
          "metadata": {
            "tags": []
          },
          "execution_count": 91
        }
      ]
    },
    {
      "metadata": {
        "id": "knYM_ScrDby4",
        "colab_type": "text"
      },
      "cell_type": "markdown",
      "source": [
        "#### Genetic's Answer"
      ]
    },
    {
      "metadata": {
        "id": "83hxhyeXG1hm",
        "colab_type": "code",
        "colab": {}
      },
      "cell_type": "code",
      "source": [
        "def geneticAlgorithmPlot(population, popSize, eliteSize, mutationRate, generations):\n",
        "    pop = initialPopulation(popSize, population)\n",
        "    progress = []\n",
        "    progress.append(1 / rankRoutes(pop)[0][1])\n",
        "    \n",
        "    for i in range(0, generations):\n",
        "        pop = nextGeneration(pop, eliteSize, mutationRate)\n",
        "        progress.append(1 / rankRoutes(pop)[0][1])\n",
        "    \n",
        "    plt.plot(progress)\n",
        "    plt.ylabel('Distance')\n",
        "    plt.xlabel('Generation')\n",
        "    plt.show()\n",
        "    "
      ],
      "execution_count": 0,
      "outputs": []
    },
    {
      "metadata": {
        "id": "-xh0XypoHAy2",
        "colab_type": "code",
        "outputId": "70e854e4-7484-4cae-c47f-f7d9d565c485",
        "colab": {
          "base_uri": "https://localhost:8080/",
          "height": 361
        }
      },
      "cell_type": "code",
      "source": [
        "geneticAlgorithmPlot(population=cityList, popSize=100, eliteSize=20, mutationRate=0.01, generations=5000)"
      ],
      "execution_count": 0,
      "outputs": [
        {
          "output_type": "display_data",
          "data": {
            "image/png": "[encoded data removed]",
            "text/plain": [
              "<Figure size 576x396 with 1 Axes>"
            ]
          },
          "metadata": {
            "tags": []
          }
        }
      ]
    },
    {
      "metadata": {
        "id": "qkOV0rC-DjZy",
        "colab_type": "text"
      },
      "cell_type": "markdown",
      "source": [
        "Comments --the results are far from complete, as the actual population size is 50!  --- how to decrease the runtime of this alorigthm is a challenge.  \n",
        "\n",
        "-- Ideal result should be around 20,000 miles"
      ]
    },
    {
      "metadata": {
        "id": "xpmQjww3se7_",
        "colab_type": "text"
      },
      "cell_type": "markdown",
      "source": [
        "## Conclusion"
      ]
    },
    {
      "metadata": {
        "id": "BPmxjVHssilo",
        "colab_type": "text"
      },
      "cell_type": "markdown",
      "source": [
        "Based on the above tested models, both Greedy and Google's alogorithm were able to complete the job efficiently. Google's final route however was better than Greedy's.\n",
        "\n",
        "Genetic Algoritm has the potential to provide a better answer, however it is not computationally viable at the moment as we had to restrict the population size and generations to restrict the amount of computation time."
      ]
    },
    {
      "metadata": {
        "id": "KZOX0FjNvS1f",
        "colab_type": "text"
      },
      "cell_type": "markdown",
      "source": [
        "## Add On (Multiprocessing for Genetic Algo)"
      ]
    },
    {
      "metadata": {
        "id": "y7nno7oOvSk2",
        "colab_type": "code",
        "colab": {}
      },
      "cell_type": "code",
      "source": [
        "from time import time\n",
        "\n",
        "## create class to return multiple parameters from  algo\n",
        "class GA_Results: \n",
        "    def __init__(self,initial_d,final_d,best_route): \n",
        "        self.initial_d = initial_d\n",
        "        self.final_d = final_d\n",
        "        self.best_route = best_route"
      ],
      "execution_count": 0,
      "outputs": []
    },
    {
      "metadata": {
        "id": "Qz_QBk-qvZYq",
        "colab_type": "code",
        "colab": {}
      },
      "cell_type": "code",
      "source": [
        "## edit algorithm to return back GA_Results object instead of printing\n",
        "from multiprocessing import Pool\n",
        "\n",
        "def geneticAlgorithm(population, popSize, eliteSize, mutationRate, generations):\n",
        "    \n",
        "    pop = initialPopulation(popSize, population)\n",
        "    \n",
        "    initial_d = 1 / rankRoutes(pop)[0][1]\n",
        "    \n",
        "    for i in range(0, generations):\n",
        "        pop = nextGeneration(pop, eliteSize, mutationRate)\n",
        "    \n",
        "    final_d = 1 / rankRoutes(pop)[0][1]\n",
        "    \n",
        "    bestRouteIndex = rankRoutes(pop)[0][0]\n",
        "    bestRoute = pop[bestRouteIndex]\n",
        "\n",
        "    GA_best = GA_Results(initial_d=initial_d,final_d=final_d,best_route=bestRoute)\n",
        "    return GA_best"
      ],
      "execution_count": 0,
      "outputs": []
    },
    {
      "metadata": {
        "id": "3OPbGGKEvpgK",
        "colab_type": "code",
        "outputId": "8fa1f211-dde5-4315-97e8-9b7bb1bbdea9",
        "colab": {
          "base_uri": "https://localhost:8080/",
          "height": 34
        }
      },
      "cell_type": "code",
      "source": [
        "## testing algo 1 run with 1 worker\n",
        "def runGA(x):\n",
        "  return (geneticAlgorithm(population=cityList, popSize=100, eliteSize=20, mutationRate=0.01, generations=5000))\n",
        "  \n",
        "result_initialD = []\n",
        "result_finalD = []\n",
        "result_best_route = []\n",
        "  \n",
        "start_time = time()\n",
        "\n",
        "if __name__ == '__main__':\n",
        "  p = Pool(1)\n",
        "  results = p.map(runGA, range(1,2))\n",
        "  for i in results:\n",
        "    result_initialD.append(i.initial_d)\n",
        "    result_finalD.append(i.final_d)\n",
        "    result_best_route.append(i.best_route)\n",
        "  \n",
        "end_time = time()\n",
        "print(\"runtime：%s\"%(end_time-start_time))"
      ],
      "execution_count": 0,
      "outputs": [
        {
          "output_type": "stream",
          "text": [
            "runtime：200.31238174438477\n"
          ],
          "name": "stdout"
        }
      ]
    },
    {
      "metadata": {
        "id": "Q4RB1YPz3tY_",
        "colab_type": "code",
        "outputId": "8b8044c1-cc80-4a4e-8303-d9dc31d01462",
        "colab": {
          "base_uri": "https://localhost:8080/",
          "height": 34
        }
      },
      "cell_type": "code",
      "source": [
        "result_finalD"
      ],
      "execution_count": 0,
      "outputs": [
        {
          "output_type": "execute_result",
          "data": {
            "text/plain": [
              "[41004.11607343185]"
            ]
          },
          "metadata": {
            "tags": []
          },
          "execution_count": 90
        }
      ]
    },
    {
      "metadata": {
        "id": "A3fYJGmItk3-",
        "colab_type": "code",
        "outputId": "a04eff61-00e6-4bf1-e727-ca9e2519afb0",
        "colab": {
          "base_uri": "https://localhost:8080/",
          "height": 34
        }
      },
      "cell_type": "code",
      "source": [
        "## testing algo 4 runs with 2 workers (2 runs each)\n",
        "def runGA(x):\n",
        "  return (geneticAlgorithm(population=cityList, popSize=100, eliteSize=20, mutationRate=0.01, generations=5000))\n",
        "  \n",
        "result_initialD = []\n",
        "result_finalD = []\n",
        "result_best_route = []\n",
        "  \n",
        "start_time = time()\n",
        "\n",
        "if __name__ == '__main__':\n",
        "  p = Pool(2)\n",
        "  results = p.map(runGA, range(1,5))\n",
        "  for i in results:\n",
        "    result_initialD.append(i.initial_d)\n",
        "    result_finalD.append(i.final_d)\n",
        "    result_best_route.append(i.best_route)\n",
        "  \n",
        "end_time = time()\n",
        "print(\"runtime：%s\"%(end_time-start_time))"
      ],
      "execution_count": 0,
      "outputs": [
        {
          "output_type": "stream",
          "text": [
            "runtime：568.5369117259979\n"
          ],
          "name": "stdout"
        }
      ]
    },
    {
      "metadata": {
        "id": "uVJVLjDOBoVs",
        "colab_type": "code",
        "outputId": "64c25d67-8516-4ddb-8bf4-d824bd42aef8",
        "colab": {
          "base_uri": "https://localhost:8080/",
          "height": 34
        }
      },
      "cell_type": "code",
      "source": [
        "result_finalD"
      ],
      "execution_count": 0,
      "outputs": [
        {
          "output_type": "execute_result",
          "data": {
            "text/plain": [
              "[37829.149366712925, 46462.9821707884, 44899.54352638741, 44187.71305103832]"
            ]
          },
          "metadata": {
            "tags": []
          },
          "execution_count": 108
        }
      ]
    },
    {
      "metadata": {
        "id": "xL5Eg3DXt6m8",
        "colab_type": "code",
        "outputId": "83be0c09-6c89-4404-e168-933dffdfb1d3",
        "colab": {
          "base_uri": "https://localhost:8080/",
          "height": 34
        }
      },
      "cell_type": "code",
      "source": [
        "## testing algo 8 runs with 4 workers (2 runs each)\n",
        "def runGA(x):\n",
        "  return (geneticAlgorithm(population=cityList, popSize=100, eliteSize=20, mutationRate=0.01, generations=5000))\n",
        "  \n",
        "result_initialD = []\n",
        "result_finalD = []\n",
        "result_best_route = []\n",
        "  \n",
        "start_time = time()\n",
        "\n",
        "if __name__ == '__main__':\n",
        "  p = Pool(4)\n",
        "  results = p.map(runGA, range(1,9))\n",
        "  for i in results:\n",
        "    result_initialD.append(i.initial_d)\n",
        "    result_finalD.append(i.final_d)\n",
        "    result_best_route.append(i.best_route)\n",
        "  \n",
        "end_time = time()\n",
        "print(\"runtime：%s\"%(end_time-start_time))"
      ],
      "execution_count": 0,
      "outputs": [
        {
          "output_type": "stream",
          "text": [
            "runtime：1146.0241944789886\n"
          ],
          "name": "stdout"
        }
      ]
    },
    {
      "metadata": {
        "id": "1hYsn4UrBpu2",
        "colab_type": "code",
        "outputId": "48431686-bce9-4167-d82e-3c35b4057348",
        "colab": {
          "base_uri": "https://localhost:8080/",
          "height": 153
        }
      },
      "cell_type": "code",
      "source": [
        "result_finalD"
      ],
      "execution_count": 0,
      "outputs": [
        {
          "output_type": "execute_result",
          "data": {
            "text/plain": [
              "[45505.28668030181,\n",
              " 45454.191313283154,\n",
              " 41743.09188121528,\n",
              " 43564.50020270857,\n",
              " 40676.9526876605,\n",
              " 41645.8678750898,\n",
              " 41907.55997023744,\n",
              " 42713.390853205274]"
            ]
          },
          "metadata": {
            "tags": []
          },
          "execution_count": 110
        }
      ]
    },
    {
      "metadata": {
        "id": "SgD1kHwL3Sbg",
        "colab_type": "code",
        "outputId": "9c2484d4-e1b3-4db7-cd0f-f6876e91202a",
        "colab": {
          "base_uri": "https://localhost:8080/",
          "height": 34
        }
      },
      "cell_type": "code",
      "source": [
        "## testing algo 8 runs with 2 workers (4 runs each)\n",
        "def runGA(x):\n",
        "  return (geneticAlgorithm(population=cityList, popSize=100, eliteSize=20, mutationRate=0.01, generations=5000))\n",
        "  \n",
        "result_initialD = []\n",
        "result_finalD = []\n",
        "result_best_route = []\n",
        "  \n",
        "start_time = time()\n",
        "\n",
        "if __name__ == '__main__':\n",
        "  p = Pool(2)\n",
        "  results = p.map(runGA, range(1,9))\n",
        "  for i in results:\n",
        "    result_initialD.append(i.initial_d)\n",
        "    result_finalD.append(i.final_d)\n",
        "    result_best_route.append(i.best_route)\n",
        "  \n",
        "end_time = time()\n",
        "print(\"runtime：%s\"%(end_time-start_time))"
      ],
      "execution_count": 0,
      "outputs": [
        {
          "output_type": "stream",
          "text": [
            "runtime：1138.8751635551453\n"
          ],
          "name": "stdout"
        }
      ]
    },
    {
      "metadata": {
        "id": "T9B2Yco8iQeK",
        "colab_type": "code",
        "outputId": "e0724524-b7d4-4292-9edd-937a5722439c",
        "colab": {
          "base_uri": "https://localhost:8080/",
          "height": 153
        }
      },
      "cell_type": "code",
      "source": [
        "result_finalD"
      ],
      "execution_count": 0,
      "outputs": [
        {
          "output_type": "execute_result",
          "data": {
            "text/plain": [
              "[44121.37535683423,\n",
              " 42192.632093390326,\n",
              " 42482.757111021565,\n",
              " 43644.71754808909,\n",
              " 39586.0471424744,\n",
              " 42697.744971063345,\n",
              " 41490.262671704426,\n",
              " 41933.53079851175]"
            ]
          },
          "metadata": {
            "tags": []
          },
          "execution_count": 112
        }
      ]
    },
    {
      "metadata": {
        "id": "Vh-la7-bNt1C",
        "colab_type": "code",
        "outputId": "5a0a9bb9-0395-4025-e814-d74191fa4a29",
        "colab": {
          "base_uri": "https://localhost:8080/",
          "height": 34
        }
      },
      "cell_type": "code",
      "source": [
        "## testing algo 100 runs with 5 workers (20 runs each)\n",
        "def runGA(x):\n",
        "  return (geneticAlgorithm(population=cityList, popSize=100, eliteSize=20, mutationRate=0.01, generations=5000))\n",
        "  \n",
        "result_initialD = []\n",
        "result_finalD = []\n",
        "result_best_route = []\n",
        "  \n",
        "start_time = time()\n",
        "\n",
        "if __name__ == '__main__':\n",
        "  p = Pool(5)\n",
        "  results = p.map(runGA, range(1,21))\n",
        "  for i in results:\n",
        "    result_initialD.append(i.initial_d)\n",
        "    result_finalD.append(i.final_d)\n",
        "    result_best_route.append(i.best_route)\n",
        "  \n",
        "end_time = time()\n",
        "print(\"runtime：%s\"%(end_time-start_time))"
      ],
      "execution_count": 0,
      "outputs": [
        {
          "output_type": "stream",
          "text": [
            "runtime：2856.617755174637\n"
          ],
          "name": "stdout"
        }
      ]
    },
    {
      "metadata": {
        "id": "ZIu4nXZwOECI",
        "colab_type": "code",
        "colab": {}
      },
      "cell_type": "code",
      "source": [
        "## testing algo 100 runs with 5 workers (20 runs each)\n",
        "def runGA(x):\n",
        "  return (geneticAlgorithm(population=cityList, popSize=100, eliteSize=20, mutationRate=0.01, generations=5000))\n",
        "  \n",
        "result_initialD = []\n",
        "result_finalD = []\n",
        "result_best_route = []\n",
        "  \n",
        "start_time = time()\n",
        "\n",
        "if __name__ == '__main__':\n",
        "  p = Pool(5)\n",
        "  results = p.map(runGA, range(1,21))\n",
        "  for i in results:\n",
        "    result_initialD.append(i.initial_d)\n",
        "    result_finalD.append(i.final_d)\n",
        "    result_best_route.append(i.best_route)\n",
        "  \n",
        "end_time = time()\n",
        "print(\"runtime：%s\"%(end_time-start_time))"
      ],
      "execution_count": 0,
      "outputs": []
    },
    {
      "metadata": {
        "id": "UD6RkqJeyV0s",
        "colab_type": "code",
        "colab": {}
      },
      "cell_type": "code",
      "source": [
        "result_finalD"
      ],
      "execution_count": 0,
      "outputs": []
    },
    {
      "metadata": {
        "id": "bPHcmHm-yWgY",
        "colab_type": "code",
        "outputId": "469e85b3-c276-41ec-cbc4-8aa301182787",
        "colab": {
          "base_uri": "https://localhost:8080/",
          "height": 71
        }
      },
      "cell_type": "code",
      "source": [
        "best_route_dist = min(result_finalD)\n",
        "best_run = result_finalD.index(best_route_dist)\n",
        "best_route =  result_best_route[best_run]\n",
        "\n",
        "print (\"Best Route Distance:\" + str(best_route_dist))\n",
        "print (\"Best Route:\" + str(best_route))\n"
      ],
      "execution_count": 0,
      "outputs": [
        {
          "output_type": "stream",
          "text": [
            "Best Route Distance:41004.11607343185\n",
            "Best Route:[(40.551217,-85.602364), (40.417287,-82.907123), (37.839333,-84.270018), (38.597626,-80.454903), (39.045755,-76.641271), (43.299428,-74.217933), (41.580095,-71.477429), (41.203322,-77.194525), (45.253783,-69.445469), (44.558803,-72.577841), (42.407211,-71.382437), (41.764046,-72.682198), (43.193852,-71.572395), (40.058324,-74.405661), (39.157307,-75.519722), (44.314844,-85.602364), (46.729553,-94.6859), (37.964253,-91.831833), (31.244823,-92.145024), (34.746613,-92.288986), (37.431573,-78.656894), (43.78444,-88.787868), (46.879682,-110.362566), (47.751074,-120.740139), (58.301598,-134.420212), (21.307442,-157.857376), (38.576668,-121.493629), (43.804133,-120.554201), (43.617775,-116.199722), (39.798363,-89.654961), (43.969515,-99.901813), (47.551493,-101.002012), (41.878003,-93.097702), (41.492537,-99.901813), (38.80261,-116.419389), (39.32098,-111.093731), (34.97273,-105.032363), (33.448143,-112.096962), (39.739227,-104.984856), (39.011902,-98.484246), (35.007752,-97.092877), (31.968599,-99.901813), (35.517491,-86.580447), (30.438118,-84.281296), (35.759573,-79.0193), (32.354668,-89.398528), (33.749027,-84.388229), (33.836081,-81.163725), (32.377716,-86.300568)]\n"
          ],
          "name": "stdout"
        }
      ]
    },
    {
      "metadata": {
        "id": "jFBGjDCw2ebd",
        "colab_type": "code",
        "outputId": "e4eb69d3-ad22-4191-a430-850b7eb85683",
        "colab": {
          "base_uri": "https://localhost:8080/",
          "height": 180
        }
      },
      "cell_type": "code",
      "source": [
        "for i in best_route:\n",
        "  cities.index(i)"
      ],
      "execution_count": 0,
      "outputs": [
        {
          "output_type": "error",
          "ename": "ValueError",
          "evalue": "ignored",
          "traceback": [
            "\u001b[0;31m---------------------------------------------------------------------------\u001b[0m",
            "\u001b[0;31mValueError\u001b[0m                                Traceback (most recent call last)",
            "\u001b[0;32m<ipython-input-92-b3439ac0cfa3>\u001b[0m in \u001b[0;36m<module>\u001b[0;34m()\u001b[0m\n\u001b[1;32m      1\u001b[0m \u001b[0;32mfor\u001b[0m \u001b[0mi\u001b[0m \u001b[0;32min\u001b[0m \u001b[0mbest_route\u001b[0m\u001b[0;34m:\u001b[0m\u001b[0;34m\u001b[0m\u001b[0;34m\u001b[0m\u001b[0m\n\u001b[0;32m----> 2\u001b[0;31m   \u001b[0mcities\u001b[0m\u001b[0;34m.\u001b[0m\u001b[0mindex\u001b[0m\u001b[0;34m(\u001b[0m\u001b[0mi\u001b[0m\u001b[0;34m)\u001b[0m\u001b[0;34m\u001b[0m\u001b[0;34m\u001b[0m\u001b[0m\n\u001b[0m",
            "\u001b[0;31mValueError\u001b[0m: (40.551217,-85.602364) is not in list"
          ]
        }
      ]
    },
    {
      "metadata": {
        "id": "-n6OZSpI23Q_",
        "colab_type": "code",
        "outputId": "42ac9d90-39b3-4786-dc0e-c23a1347427b",
        "colab": {
          "base_uri": "https://localhost:8080/",
          "height": 867
        }
      },
      "cell_type": "code",
      "source": [
        "cities"
      ],
      "execution_count": 0,
      "outputs": [
        {
          "output_type": "execute_result",
          "data": {
            "text/plain": [
              "[(32.377716, -86.300568),\n",
              " (58.301598, -134.420212),\n",
              " (34.746613, -92.288986),\n",
              " (33.448143, -112.096962),\n",
              " (38.576668, -121.493629),\n",
              " (39.739227, -104.984856),\n",
              " (41.764046, -72.682198),\n",
              " (39.157307, -75.519722),\n",
              " (21.307442, -157.857376),\n",
              " (30.438118, -84.281296),\n",
              " (33.749027, -84.388229),\n",
              " (41.591087, -93.603729),\n",
              " (43.617775, -116.199722),\n",
              " (39.798363, -89.654961),\n",
              " (39.768623, -86.162643),\n",
              " (39.048191, -95.677956),\n",
              " (38.186722, -84.875374),\n",
              " (30.457069, -91.187393),\n",
              " (42.358162, -71.063698),\n",
              " (38.978764, -76.490936),\n",
              " (44.307167, -69.781693),\n",
              " (42.733635, -84.555328),\n",
              " (44.955097, -93.102211),\n",
              " (38.579201, -92.172935),\n",
              " (32.303848, -90.182106),\n",
              " (46.585709, -112.018417),\n",
              " (46.82085, -100.783318),\n",
              " (42.652843, -73.757874),\n",
              " (40.808075, -96.699654),\n",
              " (43.206898, -71.537994),\n",
              " (40.220596, -74.769913),\n",
              " (35.68224, -105.939728),\n",
              " (39.163914, -119.766121),\n",
              " (35.78043, -78.639099),\n",
              " (39.961346, -82.999069),\n",
              " (35.492207, -97.503342),\n",
              " (44.938461, -123.030403),\n",
              " (40.264378, -76.883598),\n",
              " (41.830914, -71.414963),\n",
              " (34.000343, -81.033211),\n",
              " (44.367031, -100.346405),\n",
              " (36.16581, -86.784241),\n",
              " (30.27467, -97.740349),\n",
              " (40.777477, -111.888237),\n",
              " (37.538857, -77.43364),\n",
              " (44.262436, -72.580536),\n",
              " (47.035805, -122.905014),\n",
              " (43.074684, -89.384445),\n",
              " (38.336246, -81.612328),\n",
              " (41.140259, -104.820236)]"
            ]
          },
          "metadata": {
            "tags": []
          },
          "execution_count": 93
        }
      ]
    },
    {
      "metadata": {
        "id": "8UV4MJ_h_Prt",
        "colab_type": "code",
        "colab": {}
      },
      "cell_type": "code",
      "source": [
        ""
      ],
      "execution_count": 0,
      "outputs": []
    }
  ]
}